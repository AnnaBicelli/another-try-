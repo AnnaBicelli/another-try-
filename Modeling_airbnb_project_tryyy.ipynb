{
  "nbformat": 4,
  "nbformat_minor": 0,
  "metadata": {
    "colab": {
      "provenance": [],
      "authorship_tag": "ABX9TyMG5f7BfVX0udBRNFuKff1t"
    },
    "kernelspec": {
      "name": "python3",
      "display_name": "Python 3"
    },
    "language_info": {
      "name": "python"
    }
  },
  "cells": [
    {
      "cell_type": "markdown",
      "source": [
        "\n",
        "I use Google Colab to do the modeling part because I had serious problems importing the sklearn library in VSCode.<br>I also do the first part of the project here that I've done in the Airbnb_Open_Data_project file so that I've the DataFrame set up correctly.\n",
        "\n"
      ],
      "metadata": {
        "id": "UeCs_mQCUYjL"
      }
    },
    {
      "cell_type": "code",
      "execution_count": 1,
      "metadata": {
        "id": "1h4l2sUCTowy"
      },
      "outputs": [],
      "source": [
        "import pandas as pd\n",
        "import numpy as np\n",
        "import matplotlib.pyplot as plt\n",
        "import seaborn as sns\n",
        "import sklearn"
      ]
    },
    {
      "cell_type": "code",
      "source": [
        "pd.set_option('display.max_columns', None)"
      ],
      "metadata": {
        "id": "RRfdiWVbT0nA"
      },
      "execution_count": 2,
      "outputs": []
    },
    {
      "cell_type": "markdown",
      "source": [
        "try"
      ],
      "metadata": {
        "id": "rirzgKcYLUYG"
      }
    },
    {
      "cell_type": "code",
      "source": [
        "!git add .\n",
        "!git commit -m \"Messaggio del commit\"\n",
        "!git push origin main\n"
      ],
      "metadata": {
        "colab": {
          "base_uri": "https://localhost:8080/"
        },
        "id": "hzbqSVPMUtT9",
        "outputId": "2be3b7a4-7df3-45f3-fb5f-7d489c25fe64"
      },
      "execution_count": 1,
      "outputs": [
        {
          "output_type": "stream",
          "name": "stdout",
          "text": [
            "fatal: not a git repository (or any of the parent directories): .git\n",
            "fatal: not a git repository (or any of the parent directories): .git\n",
            "fatal: not a git repository (or any of the parent directories): .git\n"
          ]
        }
      ]
    },
    {
      "cell_type": "code",
      "source": [],
      "metadata": {
        "id": "2eoItl5hLaqj"
      },
      "execution_count": null,
      "outputs": []
    }
  ]
}